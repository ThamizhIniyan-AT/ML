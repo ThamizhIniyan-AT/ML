{
 "cells": [
  {
   "cell_type": "code",
   "execution_count": 1,
   "metadata": {
    "id": "MC0oweAA8Mmh"
   },
   "outputs": [],
   "source": [
    "import pandas as pd\n",
    "import matplotlib.pyplot as plt\n",
    "import numpy as np\n",
    "from sklearn import linear_model"
   ]
  },
  {
   "cell_type": "markdown",
   "metadata": {
    "id": "KWIEcpHS8Mmp"
   },
   "source": [
    "# Assignment5\n"
   ]
  },
  {
   "cell_type": "markdown",
   "metadata": {
    "id": "Pqe6LvHz8Mmv"
   },
   "source": [
    "## Ground Cricket Chirps\n",
    "\n",
    "In _The Song of Insects_ (1948) by George W. Pierce, Pierce mechanically measured the frequency (the number of wing vibrations per second) of chirps (or pulses of sound) made by a striped ground cricket, at various ground temperatures.  Since crickets are ectotherms (cold-blooded), the rate of their physiological processes and their overall metabolism are influenced by temperature.  Consequently, there is reason to believe that temperature would have a profound effect on aspects of their behavior, such as chirp frequency.\n",
    "\n",
    "In general, it was found that crickets did not sing at temperatures colder than 60º F. or warmer than 100º F."
   ]
  },
  {
   "cell_type": "code",
   "execution_count": 2,
   "metadata": {
    "id": "AkOhtZfP8Mmx"
   },
   "outputs": [],
   "source": [
    "ground_cricket_data = {\"Chirps/Second\": [20.0, 16.0, 19.8, 18.4, 17.1, 15.5, 14.7,\n",
    "                                         15.7, 15.4, 16.3, 15.0, 17.2, 16.0, 17.0,\n",
    "                                         14.4],\n",
    "                       \"Ground Temperature\": [88.6, 71.6, 93.3, 84.3, 80.6, 75.2, 69.7,\n",
    "                                              71.6, 69.4, 83.3, 79.6, 82.6, 80.6, 83.5,\n",
    "                                              76.3]}\n",
    "df = pd.DataFrame(ground_cricket_data)"
   ]
  },
  {
   "cell_type": "markdown",
   "metadata": {
    "id": "Nhkf-0W78Mmy"
   },
   "source": [
    "### Tasks\n",
    "\n",
    "1. Find the linear regression equation for this data.\n",
    "2. Chart the original data and the equation on the chart.\n",
    "3. Find the equation's $R^2$ score (use the `.score` method) to determine whether the\n",
    "equation is a good fit for this data. (0.8 and greater is considered a strong correlation.)\n",
    "4. Extrapolate data:  If the ground temperature reached 95, then at what approximate rate would you expect the crickets to be chirping?\n",
    "5. Interpolate data:  With a listening device, you discovered that on a particular morning the crickets were chirping at a rate of 18 chirps per second.  What was the approximate ground temperature that morning? "
   ]
  },
  {
   "cell_type": "code",
   "execution_count": 3,
   "metadata": {},
   "outputs": [
    {
     "data": {
      "text/html": [
       "<div>\n",
       "<style scoped>\n",
       "    .dataframe tbody tr th:only-of-type {\n",
       "        vertical-align: middle;\n",
       "    }\n",
       "\n",
       "    .dataframe tbody tr th {\n",
       "        vertical-align: top;\n",
       "    }\n",
       "\n",
       "    .dataframe thead th {\n",
       "        text-align: right;\n",
       "    }\n",
       "</style>\n",
       "<table border=\"1\" class=\"dataframe\">\n",
       "  <thead>\n",
       "    <tr style=\"text-align: right;\">\n",
       "      <th></th>\n",
       "      <th>Chirps/Second</th>\n",
       "      <th>Ground Temperature</th>\n",
       "    </tr>\n",
       "  </thead>\n",
       "  <tbody>\n",
       "    <tr>\n",
       "      <th>0</th>\n",
       "      <td>20.0</td>\n",
       "      <td>88.6</td>\n",
       "    </tr>\n",
       "    <tr>\n",
       "      <th>1</th>\n",
       "      <td>16.0</td>\n",
       "      <td>71.6</td>\n",
       "    </tr>\n",
       "    <tr>\n",
       "      <th>2</th>\n",
       "      <td>19.8</td>\n",
       "      <td>93.3</td>\n",
       "    </tr>\n",
       "    <tr>\n",
       "      <th>3</th>\n",
       "      <td>18.4</td>\n",
       "      <td>84.3</td>\n",
       "    </tr>\n",
       "    <tr>\n",
       "      <th>4</th>\n",
       "      <td>17.1</td>\n",
       "      <td>80.6</td>\n",
       "    </tr>\n",
       "    <tr>\n",
       "      <th>5</th>\n",
       "      <td>15.5</td>\n",
       "      <td>75.2</td>\n",
       "    </tr>\n",
       "    <tr>\n",
       "      <th>6</th>\n",
       "      <td>14.7</td>\n",
       "      <td>69.7</td>\n",
       "    </tr>\n",
       "    <tr>\n",
       "      <th>7</th>\n",
       "      <td>15.7</td>\n",
       "      <td>71.6</td>\n",
       "    </tr>\n",
       "    <tr>\n",
       "      <th>8</th>\n",
       "      <td>15.4</td>\n",
       "      <td>69.4</td>\n",
       "    </tr>\n",
       "    <tr>\n",
       "      <th>9</th>\n",
       "      <td>16.3</td>\n",
       "      <td>83.3</td>\n",
       "    </tr>\n",
       "    <tr>\n",
       "      <th>10</th>\n",
       "      <td>15.0</td>\n",
       "      <td>79.6</td>\n",
       "    </tr>\n",
       "    <tr>\n",
       "      <th>11</th>\n",
       "      <td>17.2</td>\n",
       "      <td>82.6</td>\n",
       "    </tr>\n",
       "    <tr>\n",
       "      <th>12</th>\n",
       "      <td>16.0</td>\n",
       "      <td>80.6</td>\n",
       "    </tr>\n",
       "    <tr>\n",
       "      <th>13</th>\n",
       "      <td>17.0</td>\n",
       "      <td>83.5</td>\n",
       "    </tr>\n",
       "    <tr>\n",
       "      <th>14</th>\n",
       "      <td>14.4</td>\n",
       "      <td>76.3</td>\n",
       "    </tr>\n",
       "  </tbody>\n",
       "</table>\n",
       "</div>"
      ],
      "text/plain": [
       "    Chirps/Second  Ground Temperature\n",
       "0            20.0                88.6\n",
       "1            16.0                71.6\n",
       "2            19.8                93.3\n",
       "3            18.4                84.3\n",
       "4            17.1                80.6\n",
       "5            15.5                75.2\n",
       "6            14.7                69.7\n",
       "7            15.7                71.6\n",
       "8            15.4                69.4\n",
       "9            16.3                83.3\n",
       "10           15.0                79.6\n",
       "11           17.2                82.6\n",
       "12           16.0                80.6\n",
       "13           17.0                83.5\n",
       "14           14.4                76.3"
      ]
     },
     "execution_count": 3,
     "metadata": {},
     "output_type": "execute_result"
    }
   ],
   "source": [
    "df"
   ]
  },
  {
   "cell_type": "code",
   "execution_count": 4,
   "metadata": {},
   "outputs": [],
   "source": [
    "df.columns = ['Chirps_per_Second','Ground Temperature']"
   ]
  },
  {
   "cell_type": "code",
   "execution_count": 5,
   "metadata": {},
   "outputs": [],
   "source": [
    "x = df[[\"Ground Temperature\"]].values\n",
    "y = df[[\"Chirps_per_Second\"]].values"
   ]
  },
  {
   "cell_type": "code",
   "execution_count": 6,
   "metadata": {},
   "outputs": [],
   "source": [
    "# from sklearn.model_selection import train_test_split\n",
    "# x_train,x_test,y_train,y_test = train_test_split(x,y,random_state=1,test_size=0.28)"
   ]
  },
  {
   "cell_type": "code",
   "execution_count": 7,
   "metadata": {},
   "outputs": [
    {
     "data": {
      "text/plain": [
       "array([[88.6],\n",
       "       [71.6],\n",
       "       [93.3],\n",
       "       [84.3],\n",
       "       [80.6],\n",
       "       [75.2],\n",
       "       [69.7],\n",
       "       [71.6],\n",
       "       [69.4],\n",
       "       [83.3],\n",
       "       [79.6],\n",
       "       [82.6],\n",
       "       [80.6],\n",
       "       [83.5],\n",
       "       [76.3]])"
      ]
     },
     "execution_count": 7,
     "metadata": {},
     "output_type": "execute_result"
    }
   ],
   "source": [
    "# print(x_train.shape)\n",
    "# print(x_test.shape)\n",
    "x"
   ]
  },
  {
   "cell_type": "code",
   "execution_count": 8,
   "metadata": {},
   "outputs": [],
   "source": [
    "# x_test"
   ]
  },
  {
   "cell_type": "code",
   "execution_count": 9,
   "metadata": {},
   "outputs": [],
   "source": [
    "from sklearn.linear_model import LinearRegression\n",
    "lnreg = LinearRegression()\n",
    "lnreg.fit(x,y)\n",
    "y_pred = lnreg.predict(x)"
   ]
  },
  {
   "cell_type": "markdown",
   "metadata": {},
   "source": [
    "## Find the linear regression equation for this data.\n",
    "**y=mx+c**\n",
    "* y= output\n",
    "* m= slope\n",
    "* x= variable\n",
    "* c= intercept"
   ]
  },
  {
   "cell_type": "code",
   "execution_count": 10,
   "metadata": {},
   "outputs": [
    {
     "name": "stdout",
     "output_type": "stream",
     "text": [
      "The linear regression equation for this data:\n",
      "y=0.4593 + x*0.2030\n"
     ]
    }
   ],
   "source": [
    "print( \"The linear regression equation for this data:\\ny={:.4f} + x*{:.4f}\".format(lnreg.intercept_[0],lnreg.coef_[0][0]))"
   ]
  },
  {
   "cell_type": "code",
   "execution_count": 11,
   "metadata": {},
   "outputs": [],
   "source": [
    "# lnreg.intercept_[0]\n",
    "# lnreg.coef_[0][0]"
   ]
  },
  {
   "cell_type": "markdown",
   "metadata": {},
   "source": [
    "## Chart the original data and the equation on the char"
   ]
  },
  {
   "cell_type": "code",
   "execution_count": 12,
   "metadata": {},
   "outputs": [],
   "source": [
    "def crips_temp_model():\n",
    "    plt.scatter(x,y,color=\"r\")\n",
    "    plt.plot(x,y_pred,color=\"k\")\n",
    "    plt.title(\"Chart the original data and the equation on the chart\",color='g')\n",
    "    plt.xlabel(\"Ground_Temperature\",color='b')\n",
    "    plt.ylabel(\"Chrips_per_second\",color='b')"
   ]
  },
  {
   "cell_type": "markdown",
   "metadata": {},
   "source": [
    "## Find the equation's  𝑅2\n",
    "score (use the .score method) to determine whether the equation is a good fit for this data. (0.8 and greater is considered a strong correlation.)\n",
    "\n",
    "**The score is below 0.8 hence it is not a good fit for this data**"
   ]
  },
  {
   "cell_type": "code",
   "execution_count": 13,
   "metadata": {},
   "outputs": [
    {
     "data": {
      "text/plain": [
       "0.6922946529147005"
      ]
     },
     "execution_count": 13,
     "metadata": {},
     "output_type": "execute_result"
    }
   ],
   "source": [
    "lnreg.score(x,y)"
   ]
  },
  {
   "cell_type": "markdown",
   "metadata": {},
   "source": [
    "## Extrapolate data: \n",
    "If the ground temperature reached 95, then at what approximate rate would you expect the crickets to be chirping?"
   ]
  },
  {
   "cell_type": "code",
   "execution_count": 14,
   "metadata": {},
   "outputs": [
    {
     "name": "stdout",
     "output_type": "stream",
     "text": [
      "when ground temperature 95 is the chriping per sound may be 19.7443 \n"
     ]
    }
   ],
   "source": [
    "print(\"when ground temperature {} is the chriping per sound may be {:.4f} \".format(\"95\",lnreg.predict([[95]])[0][0]))"
   ]
  },
  {
   "cell_type": "markdown",
   "metadata": {},
   "source": [
    "## Interpolate data:\n",
    "With a listening device, you discovered that on a particular morning the crickets were chirping at a rate of 18 chirps per second. What was the approximate ground temperature that morning?"
   ]
  },
  {
   "cell_type": "markdown",
   "metadata": {},
   "source": [
    "* y = mx+c\n",
    "* y = 18\n",
    "* m = lnreg.coef_\n",
    "* c = lnreg.intercept_\n",
    "* x = ?\n",
    "* (y-c)/m = x"
   ]
  },
  {
   "cell_type": "code",
   "execution_count": 15,
   "metadata": {},
   "outputs": [
    {
     "name": "stdout",
     "output_type": "stream",
     "text": [
      "when the crips per second 18 is 86.4074\n"
     ]
    }
   ],
   "source": [
    "y = 18\n",
    "x = ((y-lnreg.intercept_[0])/lnreg.coef_[0][0])\n",
    "print(\"when the crips per second {} is {:.4f}\".format(y,x))"
   ]
  },
  {
   "cell_type": "code",
   "execution_count": 16,
   "metadata": {},
   "outputs": [],
   "source": [
    "y_t = df[[\"Chirps_per_Second\"]].values\n",
    "x_t = df[[\"Ground Temperature\"]].values\n",
    "from sklearn.model_selection import train_test_split\n",
    "x_train,x_test,y_train,y_test = train_test_split(x_t,y_t,random_state=3,test_size=0.3)\n",
    "from sklearn.linear_model import LinearRegression\n",
    "lnreg_tts = LinearRegression()\n",
    "lnreg_tts.fit(x_train,y_train)\n",
    "y_pred = lnreg_tts.predict(x_test) # extrapolated the 95"
   ]
  },
  {
   "cell_type": "code",
   "execution_count": 17,
   "metadata": {},
   "outputs": [
    {
     "data": {
      "text/plain": [
       "array([[16.73866039],\n",
       "       [16.73866039],\n",
       "       [14.80939874],\n",
       "       [14.40211018],\n",
       "       [19.46106293]])"
      ]
     },
     "execution_count": 17,
     "metadata": {},
     "output_type": "execute_result"
    }
   ],
   "source": [
    "y_pred"
   ]
  },
  {
   "cell_type": "code",
   "execution_count": 18,
   "metadata": {},
   "outputs": [
    {
     "name": "stdout",
     "output_type": "stream",
     "text": [
      "when ground temperature 95 is the chriping per sound may be 19.8255 \n"
     ]
    }
   ],
   "source": [
    "extrapolate =  lnreg_tts.predict([[95]])\n",
    "print(\"when ground temperature {} is the chriping per sound may be {:.4f} \".format(\"95\",extrapolate[0][0]))"
   ]
  },
  {
   "cell_type": "code",
   "execution_count": 19,
   "metadata": {},
   "outputs": [
    {
     "name": "stdout",
     "output_type": "stream",
     "text": [
      "when the crips per second 18 groud temperature is 86.4841\n"
     ]
    }
   ],
   "source": [
    "ytt = 18\n",
    "xtt = ((ytt-lnreg_tts.intercept_[0])/lnreg_tts.coef_[0][0])\n",
    "print(\"when the crips per second {} groud temperature is {:.4f}\".format(ytt,xtt))"
   ]
  },
  {
   "cell_type": "code",
   "execution_count": 20,
   "metadata": {},
   "outputs": [
    {
     "data": {
      "text/plain": [
       "0.8689403880673913"
      ]
     },
     "execution_count": 20,
     "metadata": {},
     "output_type": "execute_result"
    }
   ],
   "source": [
    "lnreg.score(x_test,y_test) # trained only on the random state of 3 seems performing well"
   ]
  },
  {
   "cell_type": "code",
   "execution_count": 21,
   "metadata": {},
   "outputs": [
    {
     "data": {
      "text/plain": [
       "Text(0, 0.5, 'Chrips_per_second')"
      ]
     },
     "execution_count": 21,
     "metadata": {},
     "output_type": "execute_result"
    },
    {
     "data": {
      "image/png": "[encoded data removed]",
      "text/plain": [
       "<Figure size 640x480 with 1 Axes>"
      ]
     },
     "metadata": {},
     "output_type": "display_data"
    }
   ],
   "source": [
    "plt.scatter(x_t,y_t,color=\"r\")\n",
    "plt.plot(x_test,y_pred,color=\"k\")\n",
    "plt.title(\"Chart of train and test splited model \",color='g')\n",
    "plt.xlabel(\"Ground_Temperature\",color='b')\n",
    "plt.ylabel(\"Chrips_per_second\",color='b')"
   ]
  },
  {
   "cell_type": "markdown",
   "metadata": {
    "id": "RWta1HaC8Mmz"
   },
   "source": [
    "# Assignment6"
   ]
  },
  {
   "cell_type": "markdown",
   "metadata": {
    "id": "OoI2uUV78Mm0"
   },
   "source": [
    "## Brain vs. Body Weight\n",
    "\n",
    "In the file `brain_body.txt`, the average brain and body weight for a number of mammal species are recorded. Load this data into a Pandas data frame.\n",
    "\n",
    "### Tasks\n",
    "\n",
    "1. Find the linear regression equation for this data for brain weight to body weight.\n",
    "2. Chart the original data and the equation on the chart.\n",
    "3. Find the equation's $R^2$ score (use the `.score` method) to determine whether the\n",
    "equation is a good fit for this data. (0.8 and greater is considered a strong correlation.)"
   ]
  },
  {
   "cell_type": "code",
   "execution_count": 22,
   "metadata": {
    "id": "cWJmz5__8Mm1"
   },
   "outputs": [],
   "source": [
    "df_bb = pd.read_fwf(\"brain_body.txt\")"
   ]
  },
  {
   "cell_type": "code",
   "execution_count": 23,
   "metadata": {},
   "outputs": [
    {
     "data": {
      "text/html": [
       "<div>\n",
       "<style scoped>\n",
       "    .dataframe tbody tr th:only-of-type {\n",
       "        vertical-align: middle;\n",
       "    }\n",
       "\n",
       "    .dataframe tbody tr th {\n",
       "        vertical-align: top;\n",
       "    }\n",
       "\n",
       "    .dataframe thead th {\n",
       "        text-align: right;\n",
       "    }\n",
       "</style>\n",
       "<table border=\"1\" class=\"dataframe\">\n",
       "  <thead>\n",
       "    <tr style=\"text-align: right;\">\n",
       "      <th></th>\n",
       "      <th>Brain</th>\n",
       "      <th>Body</th>\n",
       "    </tr>\n",
       "  </thead>\n",
       "  <tbody>\n",
       "    <tr>\n",
       "      <th>0</th>\n",
       "      <td>3.385</td>\n",
       "      <td>44.5</td>\n",
       "    </tr>\n",
       "    <tr>\n",
       "      <th>1</th>\n",
       "      <td>0.480</td>\n",
       "      <td>15.5</td>\n",
       "    </tr>\n",
       "    <tr>\n",
       "      <th>2</th>\n",
       "      <td>1.350</td>\n",
       "      <td>8.1</td>\n",
       "    </tr>\n",
       "    <tr>\n",
       "      <th>3</th>\n",
       "      <td>465.000</td>\n",
       "      <td>423.0</td>\n",
       "    </tr>\n",
       "    <tr>\n",
       "      <th>4</th>\n",
       "      <td>36.330</td>\n",
       "      <td>119.5</td>\n",
       "    </tr>\n",
       "    <tr>\n",
       "      <th>...</th>\n",
       "      <td>...</td>\n",
       "      <td>...</td>\n",
       "    </tr>\n",
       "    <tr>\n",
       "      <th>57</th>\n",
       "      <td>160.000</td>\n",
       "      <td>169.0</td>\n",
       "    </tr>\n",
       "    <tr>\n",
       "      <th>58</th>\n",
       "      <td>0.900</td>\n",
       "      <td>2.6</td>\n",
       "    </tr>\n",
       "    <tr>\n",
       "      <th>59</th>\n",
       "      <td>1.620</td>\n",
       "      <td>11.4</td>\n",
       "    </tr>\n",
       "    <tr>\n",
       "      <th>60</th>\n",
       "      <td>0.104</td>\n",
       "      <td>2.5</td>\n",
       "    </tr>\n",
       "    <tr>\n",
       "      <th>61</th>\n",
       "      <td>4.235</td>\n",
       "      <td>50.4</td>\n",
       "    </tr>\n",
       "  </tbody>\n",
       "</table>\n",
       "<p>62 rows × 2 columns</p>\n",
       "</div>"
      ],
      "text/plain": [
       "      Brain   Body\n",
       "0     3.385   44.5\n",
       "1     0.480   15.5\n",
       "2     1.350    8.1\n",
       "3   465.000  423.0\n",
       "4    36.330  119.5\n",
       "..      ...    ...\n",
       "57  160.000  169.0\n",
       "58    0.900    2.6\n",
       "59    1.620   11.4\n",
       "60    0.104    2.5\n",
       "61    4.235   50.4\n",
       "\n",
       "[62 rows x 2 columns]"
      ]
     },
     "execution_count": 23,
     "metadata": {},
     "output_type": "execute_result"
    }
   ],
   "source": [
    "df_bb"
   ]
  },
  {
   "cell_type": "code",
   "execution_count": 67,
   "metadata": {},
   "outputs": [],
   "source": [
    "X = df_bb[[\"Brain\"]]\n",
    "y = df_bb[[\"Body\"]]"
   ]
  },
  {
   "cell_type": "code",
   "execution_count": 68,
   "metadata": {},
   "outputs": [],
   "source": [
    "liner_reg = LinearRegression()\n",
    "liner_reg.fit(X,y)\n",
    "y_pred_bb =liner_reg.predict(X)"
   ]
  },
  {
   "cell_type": "code",
   "execution_count": 69,
   "metadata": {},
   "outputs": [
    {
     "name": "stdout",
     "output_type": "stream",
     "text": [
      "The linear regression equation for this data:\n",
      "y=91.0044 + x*0.9665\n"
     ]
    }
   ],
   "source": [
    "print( \"The linear regression equation for this data:\\ny={:.4f} + x*{:.4f}\".format(liner_reg.intercept_[0],liner_reg.coef_[0][0]))"
   ]
  },
  {
   "cell_type": "code",
   "execution_count": 70,
   "metadata": {},
   "outputs": [],
   "source": [
    "%matplotlib notebook\n",
    "def brain_body_model():\n",
    "    plt.scatter(X,y,color=\"m\")\n",
    "    plt.plot(X,y_pred_bb,color=\"k\")\n",
    "    plt.title(\"Chart the original data and the equation on the chart\",color='g')\n",
    "    plt.xlabel(\"Body weight \",color='k')\n",
    "    plt.ylabel(\"Brain average_weight\",color='k')"
   ]
  },
  {
   "cell_type": "code",
   "execution_count": 71,
   "metadata": {},
   "outputs": [
    {
     "data": {
      "application/javascript": [
       "/* Put everything inside the global mpl namespace */\n",
       "/* global mpl */\n",
       "window.mpl = {};\n",
       "\n",
       "mpl.get_websocket_type = function () {\n",
       "    if (typeof WebSocket !== 'undefined') {\n",
       "        return WebSocket;\n",
       "    } else if (typeof MozWebSocket !== 'undefined') {\n",
       "        return MozWebSocket;\n",
       "    } else {\n",
       "        alert(\n",
       "            'Your browser does not have WebSocket support. ' +\n",
       "                'Please try Chrome, Safari or Firefox ≥ 6. ' +\n",
       "                'Firefox 4 and 5 are also supported but you ' +\n",
       "                'have to enable WebSockets in about:config.'\n",
       "        );\n",
       "    }\n",
       "};\n",
       "\n",
       "mpl.figure = function (figure_id, websocket, ondownload, parent_element) {\n",
       "    this.id = figure_id;\n",
       "\n",
       "    this.ws = websocket;\n",
       "\n",
       "    this.supports_binary = this.ws.binaryType !== undefined;\n",
       "\n",
       "    if (!this.supports_binary) {\n",
       "        var warnings = document.getElementById('mpl-warnings');\n",
       "        if (warnings) {\n",
       "            warnings.style.display = 'block';\n",
       "            warnings.textContent =\n",
       "                'This browser does not support binary websocket messages. ' +\n",
       "                'Performance may be slow.';\n",
       "        }\n",
       "    }\n",
       "\n",
       "    this.imageObj = new Image();\n",
       "\n",
       "    this.context = undefined;\n",
       "    this.message = undefined;\n",
       "    this.canvas = undefined;\n",
       "    this.rubberband_canvas = undefined;\n",
       "    this.rubberband_context = undefined;\n",
       "    this.format_dropdown = undefined;\n",
       "\n",
       "    this.image_mode = 'full';\n",
       "\n",
       "    this.root = document.createElement('div');\n",
       "    this.root.setAttribute('style', 'display: inline-block');\n",
       "    this._root_extra_style(this.root);\n",
       "\n",
       "    parent_element.appendChild(this.root);\n",
       "\n",
       "    this._init_header(this);\n",
       "    this._init_canvas(this);\n",
       "    this._init_toolbar(this);\n",
       "\n",
       "    var fig = this;\n",
       "\n",
       "    this.waiting = false;\n",
       "\n",
       "    this.ws.onopen = function () {\n",
       "        fig.send_message('supports_binary', { value: fig.supports_binary });\n",
       "        fig.send_message('send_image_mode', {});\n",
       "        if (fig.ratio !== 1) {\n",
       "            fig.send_message('set_device_pixel_ratio', {\n",
       "                device_pixel_ratio: fig.ratio,\n",
       "            });\n",
       "        }\n",
       "        fig.send_message('refresh', {});\n",
       "    };\n",
       "\n",
       "    this.imageObj.onload = function () {\n",
       "        if (fig.image_mode === 'full') {\n",
       "            // Full images could contain transparency (where diff images\n",
       "            // almost always do), so we need to clear the canvas so that\n",
       "            // there is no ghosting.\n",
       "            fig.context.clearRect(0, 0, fig.canvas.width, fig.canvas.height);\n",
       "        }\n",
       "        fig.context.drawImage(fig.imageObj, 0, 0);\n",
       "    };\n",
       "\n",
       "    this.imageObj.onunload = function () {\n",
       "        fig.ws.close();\n",
       "    };\n",
       "\n",
       "    this.ws.onmessage = this._make_on_message_function(this);\n",
       "\n",
       "    this.ondownload = ondownload;\n",
       "};\n",
       "\n",
       "mpl.figure.prototype._init_header = function () {\n",
       "    var titlebar = document.createElement('div');\n",
       "    titlebar.classList =\n",
       "        'ui-dialog-titlebar ui-widget-header ui-corner-all ui-helper-clearfix';\n",
       "    var titletext = document.createElement('div');\n",
       "    titletext.classList = 'ui-dialog-title';\n",
       "    titletext.setAttribute(\n",
       "        'style',\n",
       "        'width: 100%; text-align: center; padding: 3px;'\n",
       "    );\n",
       "    titlebar.appendChild(titletext);\n",
       "    this.root.appendChild(titlebar);\n",
       "    this.header = titletext;\n",
       "};\n",
       "\n",
       "mpl.figure.prototype._canvas_extra_style = function (_canvas_div) {};\n",
       "\n",
       "mpl.figure.prototype._root_extra_style = function (_canvas_div) {};\n",
       "\n",
       "mpl.figure.prototype._init_canvas = function () {\n",
       "    var fig = this;\n",
       "\n",
       "    var canvas_div = (this.canvas_div = document.createElement('div'));\n",
       "    canvas_div.setAttribute('tabindex', '0');\n",
       "    canvas_div.setAttribute(\n",
       "        'style',\n",
       "        'border: 1px solid #ddd;' +\n",
       "            'box-sizing: content-box;' +\n",
       "            'clear: both;' +\n",
       "            'min-height: 1px;' +\n",
       "            'min-width: 1px;' +\n",
       "            'outline: 0;' +\n",
       "            'overflow: hidden;' +\n",
       "            'position: relative;' +\n",
       "            'resize: both;' +\n",
       "            'z-index: 2;'\n",
       "    );\n",
       "\n",
       "    function on_keyboard_event_closure(name) {\n",
       "        return function (event) {\n",
       "            return fig.key_event(event, name);\n",
       "        };\n",
       "    }\n",
       "\n",
       "    canvas_div.addEventListener(\n",
       "        'keydown',\n",
       "        on_keyboard_event_closure('key_press')\n",
       "    );\n",
       "    canvas_div.addEventListener(\n",
       "        'keyup',\n",
       "        on_keyboard_event_closure('key_release')\n",
       "    );\n",
       "\n",
       "    this._canvas_extra_style(canvas_div);\n",
       "    this.root.appendChild(canvas_div);\n",
       "\n",
       "    var canvas = (this.canvas = document.createElement('canvas'));\n",
       "    canvas.classList.add('mpl-canvas');\n",
       "    canvas.setAttribute(\n",
       "        'style',\n",
       "        'box-sizing: content-box;' +\n",
       "            'pointer-events: none;' +\n",
       "            'position: relative;' +\n",
       "            'z-index: 0;'\n",
       "    );\n",
       "\n",
       "    this.context = canvas.getContext('2d');\n",
       "\n",
       "    var backingStore =\n",
       "        this.context.backingStorePixelRatio ||\n",
       "        this.context.webkitBackingStorePixelRatio ||\n",
       "        this.context.mozBackingStorePixelRatio ||\n",
       "        this.context.msBackingStorePixelRatio ||\n",
       "        this.context.oBackingStorePixelRatio ||\n",
       "        this.context.backingStorePixelRatio ||\n",
       "        1;\n",
       "\n",
       "    this.ratio = (window.devicePixelRatio || 1) / backingStore;\n",
       "\n",
       "    var rubberband_canvas = (this.rubberband_canvas = document.createElement(\n",
       "        'canvas'\n",
       "    ));\n",
       "    rubberband_canvas.setAttribute(\n",
       "        'style',\n",
       "        'box-sizing: content-box;' +\n",
       "            'left: 0;' +\n",
       "            'pointer-events: none;' +\n",
       "            'position: absolute;' +\n",
       "            'top: 0;' +\n",
       "            'z-index: 1;'\n",
       "    );\n",
       "\n",
       "    // Apply a ponyfill if ResizeObserver is not implemented by browser.\n",
       "    if (this.ResizeObserver === undefined) {\n",
       "        if (window.ResizeObserver !== undefined) {\n",
       "            this.ResizeObserver = window.ResizeObserver;\n",
       "        } else {\n",
       "            var obs = _JSXTOOLS_RESIZE_OBSERVER({});\n",
       "            this.ResizeObserver = obs.ResizeObserver;\n",
       "        }\n",
       "    }\n",
       "\n",
       "    this.resizeObserverInstance = new this.ResizeObserver(function (entries) {\n",
       "        var nentries = entries.length;\n",
       "        for (var i = 0; i < nentries; i++) {\n",
       "            var entry = entries[i];\n",
       "            var width, height;\n",
       "            if (entry.contentBoxSize) {\n",
       "                if (entry.contentBoxSize instanceof Array) {\n",
       "                    // Chrome 84 implements new version of spec.\n",
       "                    width = entry.contentBoxSize[0].inlineSize;\n",
       "                    height = entry.contentBoxSize[0].blockSize;\n",
       "                } else {\n",
       "                    // Firefox implements old version of spec.\n",
       "                    width = entry.contentBoxSize.inlineSize;\n",
       "                    height = entry.contentBoxSize.blockSize;\n",
       "                }\n",
       "            } else {\n",
       "                // Chrome <84 implements even older version of spec.\n",
       "                width = entry.contentRect.width;\n",
       "                height = entry.contentRect.height;\n",
       "            }\n",
       "\n",
       "            // Keep the size of the canvas and rubber band canvas in sync with\n",
       "            // the canvas container.\n",
       "            if (entry.devicePixelContentBoxSize) {\n",
       "                // Chrome 84 implements new version of spec.\n",
       "                canvas.setAttribute(\n",
       "                    'width',\n",
       "                    entry.devicePixelContentBoxSize[0].inlineSize\n",
       "                );\n",
       "                canvas.setAttribute(\n",
       "                    'height',\n",
       "                    entry.devicePixelContentBoxSize[0].blockSize\n",
       "                );\n",
       "            } else {\n",
       "                canvas.setAttribute('width', width * fig.ratio);\n",
       "                canvas.setAttribute('height', height * fig.ratio);\n",
       "            }\n",
       "            /* This rescales the canvas back to display pixels, so that it\n",
       "             * appears correct on HiDPI screens. */\n",
       "            canvas.style.width = width + 'px';\n",
       "            canvas.style.height = height + 'px';\n",
       "\n",
       "            rubberband_canvas.setAttribute('width', width);\n",
       "            rubberband_canvas.setAttribute('height', height);\n",
       "\n",
       "            // And update the size in Python. We ignore the initial 0/0 size\n",
       "            // that occurs as the element is placed into the DOM, which should\n",
       "            // otherwise not happen due to the minimum size styling.\n",
       "            if (fig.ws.readyState == 1 && width != 0 && height != 0) {\n",
       "                fig.request_resize(width, height);\n",
       "            }\n",
       "        }\n",
       "    });\n",
       "    this.resizeObserverInstance.observe(canvas_div);\n",
       "\n",
       "    function on_mouse_event_closure(name) {\n",
       "        /* User Agent sniffing is bad, but WebKit is busted:\n",
       "         * https://bugs.webkit.org/show_bug.cgi?id=144526\n",
       "         * https://bugs.webkit.org/show_bug.cgi?id=181818\n",
       "         * The worst that happens here is that they get an extra browser\n",
       "         * selection when dragging, if this check fails to catch them.\n",
       "         */\n",
       "        var UA = navigator.userAgent;\n",
       "        var isWebKit = /AppleWebKit/.test(UA) && !/Chrome/.test(UA);\n",
       "        if(isWebKit) {\n",
       "            return function (event) {\n",
       "                /* This prevents the web browser from automatically changing to\n",
       "                 * the text insertion cursor when the button is pressed. We\n",
       "                 * want to control all of the cursor setting manually through\n",
       "                 * the 'cursor' event from matplotlib */\n",
       "                event.preventDefault()\n",
       "                return fig.mouse_event(event, name);\n",
       "            };\n",
       "        } else {\n",
       "            return function (event) {\n",
       "                return fig.mouse_event(event, name);\n",
       "            };\n",
       "        }\n",
       "    }\n",
       "\n",
       "    canvas_div.addEventListener(\n",
       "        'mousedown',\n",
       "        on_mouse_event_closure('button_press')\n",
       "    );\n",
       "    canvas_div.addEventListener(\n",
       "        'mouseup',\n",
       "        on_mouse_event_closure('button_release')\n",
       "    );\n",
       "    canvas_div.addEventListener(\n",
       "        'dblclick',\n",
       "        on_mouse_event_closure('dblclick')\n",
       "    );\n",
       "    // Throttle sequential mouse events to 1 every 20ms.\n",
       "    canvas_div.addEventListener(\n",
       "        'mousemove',\n",
       "        on_mouse_event_closure('motion_notify')\n",
       "    );\n",
       "\n",
       "    canvas_div.addEventListener(\n",
       "        'mouseenter',\n",
       "        on_mouse_event_closure('figure_enter')\n",
       "    );\n",
       "    canvas_div.addEventListener(\n",
       "        'mouseleave',\n",
       "        on_mouse_event_closure('figure_leave')\n",
       "    );\n",
       "\n",
       "    canvas_div.addEventListener('wheel', function (event) {\n",
       "        if (event.deltaY < 0) {\n",
       "            event.step = 1;\n",
       "        } else {\n",
       "            event.step = -1;\n",
       "        }\n",
       "        on_mouse_event_closure('scroll')(event);\n",
       "    });\n",
       "\n",
       "    canvas_div.appendChild(canvas);\n",
       "    canvas_div.appendChild(rubberband_canvas);\n",
       "\n",
       "    this.rubberband_context = rubberband_canvas.getContext('2d');\n",
       "    this.rubberband_context.strokeStyle = '#000000';\n",
       "\n",
       "    this._resize_canvas = function (width, height, forward) {\n",
       "        if (forward) {\n",
       "            canvas_div.style.width = width + 'px';\n",
       "            canvas_div.style.height = height + 'px';\n",
       "        }\n",
       "    };\n",
       "\n",
       "    // Disable right mouse context menu.\n",
       "    canvas_div.addEventListener('contextmenu', function (_e) {\n",
       "        event.preventDefault();\n",
       "        return false;\n",
       "    });\n",
       "\n",
       "    function set_focus() {\n",
       "        canvas.focus();\n",
       "        canvas_div.focus();\n",
       "    }\n",
       "\n",
       "    window.setTimeout(set_focus, 100);\n",
       "};\n",
       "\n",
       "mpl.figure.prototype._init_toolbar = function () {\n",
       "    var fig = this;\n",
       "\n",
       "    var toolbar = document.createElement('div');\n",
       "    toolbar.classList = 'mpl-toolbar';\n",
       "    this.root.appendChild(toolbar);\n",
       "\n",
       "    function on_click_closure(name) {\n",
       "        return function (_event) {\n",
       "            return fig.toolbar_button_onclick(name);\n",
       "        };\n",
       "    }\n",
       "\n",
       "    function on_mouseover_closure(tooltip) {\n",
       "        return function (event) {\n",
       "            if (!event.currentTarget.disabled) {\n",
       "                return fig.toolbar_button_onmouseover(tooltip);\n",
       "            }\n",
       "        };\n",
       "    }\n",
       "\n",
       "    fig.buttons = {};\n",
       "    var buttonGroup = document.createElement('div');\n",
       "    buttonGroup.classList = 'mpl-button-group';\n",
       "    for (var toolbar_ind in mpl.toolbar_items) {\n",
       "        var name = mpl.toolbar_items[toolbar_ind][0];\n",
       "        var tooltip = mpl.toolbar_items[toolbar_ind][1];\n",
       "        var image = mpl.toolbar_items[toolbar_ind][2];\n",
       "        var method_name = mpl.toolbar_items[toolbar_ind][3];\n",
       "\n",
       "        if (!name) {\n",
       "            /* Instead of a spacer, we start a new button group. */\n",
       "            if (buttonGroup.hasChildNodes()) {\n",
       "                toolbar.appendChild(buttonGroup);\n",
       "            }\n",
       "            buttonGroup = document.createElement('div');\n",
       "            buttonGroup.classList = 'mpl-button-group';\n",
       "            continue;\n",
       "        }\n",
       "\n",
       "        var button = (fig.buttons[name] = document.createElement('button'));\n",
       "        button.classList = 'mpl-widget';\n",
       "        button.setAttribute('role', 'button');\n",
       "        button.setAttribute('aria-disabled', 'false');\n",
       "        button.addEventListener('click', on_click_closure(method_name));\n",
       "        button.addEventListener('mouseover', on_mouseover_closure(tooltip));\n",
       "\n",
       "        var icon_img = document.createElement('img');\n",
       "        icon_img.src = '_images/' + image + '.png';\n",
       "        icon_img.srcset = '_images/' + image + '_large.png 2x';\n",
       "        icon_img.alt = tooltip;\n",
       "        button.appendChild(icon_img);\n",
       "\n",
       "        buttonGroup.appendChild(button);\n",
       "    }\n",
       "\n",
       "    if (buttonGroup.hasChildNodes()) {\n",
       "        toolbar.appendChild(buttonGroup);\n",
       "    }\n",
       "\n",
       "    var fmt_picker = document.createElement('select');\n",
       "    fmt_picker.classList = 'mpl-widget';\n",
       "    toolbar.appendChild(fmt_picker);\n",
       "    this.format_dropdown = fmt_picker;\n",
       "\n",
       "    for (var ind in mpl.extensions) {\n",
       "        var fmt = mpl.extensions[ind];\n",
       "        var option = document.createElement('option');\n",
       "        option.selected = fmt === mpl.default_extension;\n",
       "        option.innerHTML = fmt;\n",
       "        fmt_picker.appendChild(option);\n",
       "    }\n",
       "\n",
       "    var status_bar = document.createElement('span');\n",
       "    status_bar.classList = 'mpl-message';\n",
       "    toolbar.appendChild(status_bar);\n",
       "    this.message = status_bar;\n",
       "};\n",
       "\n",
       "mpl.figure.prototype.request_resize = function (x_pixels, y_pixels) {\n",
       "    // Request matplotlib to resize the figure. Matplotlib will then trigger a resize in the client,\n",
       "    // which will in turn request a refresh of the image.\n",
       "    this.send_message('resize', { width: x_pixels, height: y_pixels });\n",
       "};\n",
       "\n",
       "mpl.figure.prototype.send_message = function (type, properties) {\n",
       "    properties['type'] = type;\n",
       "    properties['figure_id'] = this.id;\n",
       "    this.ws.send(JSON.stringify(properties));\n",
       "};\n",
       "\n",
       "mpl.figure.prototype.send_draw_message = function () {\n",
       "    if (!this.waiting) {\n",
       "        this.waiting = true;\n",
       "        this.ws.send(JSON.stringify({ type: 'draw', figure_id: this.id }));\n",
       "    }\n",
       "};\n",
       "\n",
       "mpl.figure.prototype.handle_save = function (fig, _msg) {\n",
       "    var format_dropdown = fig.format_dropdown;\n",
       "    var format = format_dropdown.options[format_dropdown.selectedIndex].value;\n",
       "    fig.ondownload(fig, format);\n",
       "};\n",
       "\n",
       "mpl.figure.prototype.handle_resize = function (fig, msg) {\n",
       "    var size = msg['size'];\n",
       "    if (size[0] !== fig.canvas.width || size[1] !== fig.canvas.height) {\n",
       "        fig._resize_canvas(size[0], size[1], msg['forward']);\n",
       "        fig.send_message('refresh', {});\n",
       "    }\n",
       "};\n",
       "\n",
       "mpl.figure.prototype.handle_rubberband = function (fig, msg) {\n",
       "    var x0 = msg['x0'] / fig.ratio;\n",
       "    var y0 = (fig.canvas.height - msg['y0']) / fig.ratio;\n",
       "    var x1 = msg['x1'] / fig.ratio;\n",
       "    var y1 = (fig.canvas.height - msg['y1']) / fig.ratio;\n",
       "    x0 = Math.floor(x0) + 0.5;\n",
       "    y0 = Math.floor(y0) + 0.5;\n",
       "    x1 = Math.floor(x1) + 0.5;\n",
       "    y1 = Math.floor(y1) + 0.5;\n",
       "    var min_x = Math.min(x0, x1);\n",
       "    var min_y = Math.min(y0, y1);\n",
       "    var width = Math.abs(x1 - x0);\n",
       "    var height = Math.abs(y1 - y0);\n",
       "\n",
       "    fig.rubberband_context.clearRect(\n",
       "        0,\n",
       "        0,\n",
       "        fig.canvas.width / fig.ratio,\n",
       "        fig.canvas.height / fig.ratio\n",
       "    );\n",
       "\n",
       "    fig.rubberband_context.strokeRect(min_x, min_y, width, height);\n",
       "};\n",
       "\n",
       "mpl.figure.prototype.handle_figure_label = function (fig, msg) {\n",
       "    // Updates the figure title.\n",
       "    fig.header.textContent = msg['label'];\n",
       "};\n",
       "\n",
       "mpl.figure.prototype.handle_cursor = function (fig, msg) {\n",
       "    fig.canvas_div.style.cursor = msg['cursor'];\n",
       "};\n",
       "\n",
       "mpl.figure.prototype.handle_message = function (fig, msg) {\n",
       "    fig.message.textContent = msg['message'];\n",
       "};\n",
       "\n",
       "mpl.figure.prototype.handle_draw = function (fig, _msg) {\n",
       "    // Request the server to send over a new figure.\n",
       "    fig.send_draw_message();\n",
       "};\n",
       "\n",
       "mpl.figure.prototype.handle_image_mode = function (fig, msg) {\n",
       "    fig.image_mode = msg['mode'];\n",
       "};\n",
       "\n",
       "mpl.figure.prototype.handle_history_buttons = function (fig, msg) {\n",
       "    for (var key in msg) {\n",
       "        if (!(key in fig.buttons)) {\n",
       "            continue;\n",
       "        }\n",
       "        fig.buttons[key].disabled = !msg[key];\n",
       "        fig.buttons[key].setAttribute('aria-disabled', !msg[key]);\n",
       "    }\n",
       "};\n",
       "\n",
       "mpl.figure.prototype.handle_navigate_mode = function (fig, msg) {\n",
       "    if (msg['mode'] === 'PAN') {\n",
       "        fig.buttons['Pan'].classList.add('active');\n",
       "        fig.buttons['Zoom'].classList.remove('active');\n",
       "    } else if (msg['mode'] === 'ZOOM') {\n",
       "        fig.buttons['Pan'].classList.remove('active');\n",
       "        fig.buttons['Zoom'].classList.add('active');\n",
       "    } else {\n",
       "        fig.buttons['Pan'].classList.remove('active');\n",
       "        fig.buttons['Zoom'].classList.remove('active');\n",
       "    }\n",
       "};\n",
       "\n",
       "mpl.figure.prototype.updated_canvas_event = function () {\n",
       "    // Called whenever the canvas gets updated.\n",
       "    this.send_message('ack', {});\n",
       "};\n",
       "\n",
       "// A function to construct a web socket function for onmessage handling.\n",
       "// Called in the figure constructor.\n",
       "mpl.figure.prototype._make_on_message_function = function (fig) {\n",
       "    return function socket_on_message(evt) {\n",
       "        if (evt.data instanceof Blob) {\n",
       "            var img = evt.data;\n",
       "            if (img.type !== 'image/png') {\n",
       "                /* FIXME: We get \"Resource interpreted as Image but\n",
       "                 * transferred with MIME type text/plain:\" errors on\n",
       "                 * Chrome.  But how to set the MIME type?  It doesn't seem\n",
       "                 * to be part of the websocket stream */\n",
       "                img.type = 'image/png';\n",
       "            }\n",
       "\n",
       "            /* Free the memory for the previous frames */\n",
       "            if (fig.imageObj.src) {\n",
       "                (window.URL || window.webkitURL).revokeObjectURL(\n",
       "                    fig.imageObj.src\n",
       "                );\n",
       "            }\n",
       "\n",
       "            fig.imageObj.src = (window.URL || window.webkitURL).createObjectURL(\n",
       "                img\n",
       "            );\n",
       "            fig.updated_canvas_event();\n",
       "            fig.waiting = false;\n",
       "            return;\n",
       "        } else if (\n",
       "            typeof evt.data === 'string' &&\n",
       "            evt.data.slice(0, 21) === 'data:image/png;base64'\n",
       "        ) {\n",
       "            fig.imageObj.src = evt.data;\n",
       "            fig.updated_canvas_event();\n",
       "            fig.waiting = false;\n",
       "            return;\n",
       "        }\n",
       "\n",
       "        var msg = JSON.parse(evt.data);\n",
       "        var msg_type = msg['type'];\n",
       "\n",
       "        // Call the  \"handle_{type}\" callback, which takes\n",
       "        // the figure and JSON message as its only arguments.\n",
       "        try {\n",
       "            var callback = fig['handle_' + msg_type];\n",
       "        } catch (e) {\n",
       "            console.log(\n",
       "                \"No handler for the '\" + msg_type + \"' message type: \",\n",
       "                msg\n",
       "            );\n",
       "            return;\n",
       "        }\n",
       "\n",
       "        if (callback) {\n",
       "            try {\n",
       "                // console.log(\"Handling '\" + msg_type + \"' message: \", msg);\n",
       "                callback(fig, msg);\n",
       "            } catch (e) {\n",
       "                console.log(\n",
       "                    \"Exception inside the 'handler_\" + msg_type + \"' callback:\",\n",
       "                    e,\n",
       "                    e.stack,\n",
       "                    msg\n",
       "                );\n",
       "            }\n",
       "        }\n",
       "    };\n",
       "};\n",
       "\n",
       "\n",
       "/*\n",
       " * return a copy of an object with only non-object keys\n",
       " * we need this to avoid circular references\n",
       " * https://stackoverflow.com/a/24161582/3208463\n",
       " */\n",
       "function simpleKeys(original) {\n",
       "    return Object.keys(original).reduce(function (obj, key) {\n",
       "        if (typeof original[key] !== 'object') {\n",
       "            obj[key] = original[key];\n",
       "        }\n",
       "        return obj;\n",
       "    }, {});\n",
       "}\n",
       "\n",
       "mpl.figure.prototype.mouse_event = function (event, name) {\n",
       "    if (name === 'button_press') {\n",
       "        this.canvas.focus();\n",
       "        this.canvas_div.focus();\n",
       "    }\n",
       "\n",
       "    // from https://stackoverflow.com/q/1114465\n",
       "    var boundingRect = this.canvas.getBoundingClientRect();\n",
       "    var x = (event.clientX - boundingRect.left) * this.ratio;\n",
       "    var y = (event.clientY - boundingRect.top) * this.ratio;\n",
       "\n",
       "    this.send_message(name, {\n",
       "        x: x,\n",
       "        y: y,\n",
       "        button: event.button,\n",
       "        step: event.step,\n",
       "        guiEvent: simpleKeys(event),\n",
       "    });\n",
       "\n",
       "    return false;\n",
       "};\n",
       "\n",
       "mpl.figure.prototype._key_event_extra = function (_event, _name) {\n",
       "    // Handle any extra behaviour associated with a key event\n",
       "};\n",
       "\n",
       "mpl.figure.prototype.key_event = function (event, name) {\n",
       "    // Prevent repeat events\n",
       "    if (name === 'key_press') {\n",
       "        if (event.key === this._key) {\n",
       "            return;\n",
       "        } else {\n",
       "            this._key = event.key;\n",
       "        }\n",
       "    }\n",
       "    if (name === 'key_release') {\n",
       "        this._key = null;\n",
       "    }\n",
       "\n",
       "    var value = '';\n",
       "    if (event.ctrlKey && event.key !== 'Control') {\n",
       "        value += 'ctrl+';\n",
       "    }\n",
       "    else if (event.altKey && event.key !== 'Alt') {\n",
       "        value += 'alt+';\n",
       "    }\n",
       "    else if (event.shiftKey && event.key !== 'Shift') {\n",
       "        value += 'shift+';\n",
       "    }\n",
       "\n",
       "    value += 'k' + event.key;\n",
       "\n",
       "    this._key_event_extra(event, name);\n",
       "\n",
       "    this.send_message(name, { key: value, guiEvent: simpleKeys(event) });\n",
       "    return false;\n",
       "};\n",
       "\n",
       "mpl.figure.prototype.toolbar_button_onclick = function (name) {\n",
       "    if (name === 'download') {\n",
       "        this.handle_save(this, null);\n",
       "    } else {\n",
       "        this.send_message('toolbar_button', { name: name });\n",
       "    }\n",
       "};\n",
       "\n",
       "mpl.figure.prototype.toolbar_button_onmouseover = function (tooltip) {\n",
       "    this.message.textContent = tooltip;\n",
       "};\n",
       "\n",
       "///////////////// REMAINING CONTENT GENERATED BY embed_js.py /////////////////\n",
       "// prettier-ignore\n",
       "var _JSXTOOLS_RESIZE_OBSERVER=function(A){var t,i=new WeakMap,n=new WeakMap,a=new WeakMap,r=new WeakMap,o=new Set;function s(e){if(!(this instanceof s))throw new TypeError(\"Constructor requires 'new' operator\");i.set(this,e)}function h(){throw new TypeError(\"Function is not a constructor\")}function c(e,t,i,n){e=0 in arguments?Number(arguments[0]):0,t=1 in arguments?Number(arguments[1]):0,i=2 in arguments?Number(arguments[2]):0,n=3 in arguments?Number(arguments[3]):0,this.right=(this.x=this.left=e)+(this.width=i),this.bottom=(this.y=this.top=t)+(this.height=n),Object.freeze(this)}function d(){t=requestAnimationFrame(d);var s=new WeakMap,p=new Set;o.forEach((function(t){r.get(t).forEach((function(i){var r=t instanceof window.SVGElement,o=a.get(t),d=r?0:parseFloat(o.paddingTop),f=r?0:parseFloat(o.paddingRight),l=r?0:parseFloat(o.paddingBottom),u=r?0:parseFloat(o.paddingLeft),g=r?0:parseFloat(o.borderTopWidth),m=r?0:parseFloat(o.borderRightWidth),w=r?0:parseFloat(o.borderBottomWidth),b=u+f,F=d+l,v=(r?0:parseFloat(o.borderLeftWidth))+m,W=g+w,y=r?0:t.offsetHeight-W-t.clientHeight,E=r?0:t.offsetWidth-v-t.clientWidth,R=b+v,z=F+W,M=r?t.width:parseFloat(o.width)-R-E,O=r?t.height:parseFloat(o.height)-z-y;if(n.has(t)){var k=n.get(t);if(k[0]===M&&k[1]===O)return}n.set(t,[M,O]);var S=Object.create(h.prototype);S.target=t,S.contentRect=new c(u,d,M,O),s.has(i)||(s.set(i,[]),p.add(i)),s.get(i).push(S)}))})),p.forEach((function(e){i.get(e).call(e,s.get(e),e)}))}return s.prototype.observe=function(i){if(i instanceof window.Element){r.has(i)||(r.set(i,new Set),o.add(i),a.set(i,window.getComputedStyle(i)));var n=r.get(i);n.has(this)||n.add(this),cancelAnimationFrame(t),t=requestAnimationFrame(d)}},s.prototype.unobserve=function(i){if(i instanceof window.Element&&r.has(i)){var n=r.get(i);n.has(this)&&(n.delete(this),n.size||(r.delete(i),o.delete(i))),n.size||r.delete(i),o.size||cancelAnimationFrame(t)}},A.DOMRectReadOnly=c,A.ResizeObserver=s,A.ResizeObserverEntry=h,A}; // eslint-disable-line\n",
       "mpl.toolbar_items = [[\"Home\", \"Reset original view\", \"fa fa-home\", \"home\"], [\"Back\", \"Back to previous view\", \"fa fa-arrow-left\", \"back\"], [\"Forward\", \"Forward to next view\", \"fa fa-arrow-right\", \"forward\"], [\"\", \"\", \"\", \"\"], [\"Pan\", \"Left button pans, Right button zooms\\nx/y fixes axis, CTRL fixes aspect\", \"fa fa-arrows\", \"pan\"], [\"Zoom\", \"Zoom to rectangle\\nx/y fixes axis\", \"fa fa-square-o\", \"zoom\"], [\"\", \"\", \"\", \"\"], [\"Download\", \"Download plot\", \"fa fa-floppy-o\", \"download\"]];\n",
       "\n",
       "mpl.extensions = [\"eps\", \"jpeg\", \"pgf\", \"pdf\", \"png\", \"ps\", \"raw\", \"svg\", \"tif\", \"webp\"];\n",
       "\n",
       "mpl.default_extension = \"png\";/* global mpl */\n",
       "\n",
       "var comm_websocket_adapter = function (comm) {\n",
       "    // Create a \"websocket\"-like object which calls the given IPython comm\n",
       "    // object with the appropriate methods. Currently this is a non binary\n",
       "    // socket, so there is still some room for performance tuning.\n",
       "    var ws = {};\n",
       "\n",
       "    ws.binaryType = comm.kernel.ws.binaryType;\n",
       "    ws.readyState = comm.kernel.ws.readyState;\n",
       "    function updateReadyState(_event) {\n",
       "        if (comm.kernel.ws) {\n",
       "            ws.readyState = comm.kernel.ws.readyState;\n",
       "        } else {\n",
       "            ws.readyState = 3; // Closed state.\n",
       "        }\n",
       "    }\n",
       "    comm.kernel.ws.addEventListener('open', updateReadyState);\n",
       "    comm.kernel.ws.addEventListener('close', updateReadyState);\n",
       "    comm.kernel.ws.addEventListener('error', updateReadyState);\n",
       "\n",
       "    ws.close = function () {\n",
       "        comm.close();\n",
       "    };\n",
       "    ws.send = function (m) {\n",
       "        //console.log('sending', m);\n",
       "        comm.send(m);\n",
       "    };\n",
       "    // Register the callback with on_msg.\n",
       "    comm.on_msg(function (msg) {\n",
       "        //console.log('receiving', msg['content']['data'], msg);\n",
       "        var data = msg['content']['data'];\n",
       "        if (data['blob'] !== undefined) {\n",
       "            data = {\n",
       "                data: new Blob(msg['buffers'], { type: data['blob'] }),\n",
       "            };\n",
       "        }\n",
       "        // Pass the mpl event to the overridden (by mpl) onmessage function.\n",
       "        ws.onmessage(data);\n",
       "    });\n",
       "    return ws;\n",
       "};\n",
       "\n",
       "mpl.mpl_figure_comm = function (comm, msg) {\n",
       "    // This is the function which gets called when the mpl process\n",
       "    // starts-up an IPython Comm through the \"matplotlib\" channel.\n",
       "\n",
       "    var id = msg.content.data.id;\n",
       "    // Get hold of the div created by the display call when the Comm\n",
       "    // socket was opened in Python.\n",
       "    var element = document.getElementById(id);\n",
       "    var ws_proxy = comm_websocket_adapter(comm);\n",
       "\n",
       "    function ondownload(figure, _format) {\n",
       "        window.open(figure.canvas.toDataURL());\n",
       "    }\n",
       "\n",
       "    var fig = new mpl.figure(id, ws_proxy, ondownload, element);\n",
       "\n",
       "    // Call onopen now - mpl needs it, as it is assuming we've passed it a real\n",
       "    // web socket which is closed, not our websocket->open comm proxy.\n",
       "    ws_proxy.onopen();\n",
       "\n",
       "    fig.parent_element = element;\n",
       "    fig.cell_info = mpl.find_output_cell(\"<div id='\" + id + \"'></div>\");\n",
       "    if (!fig.cell_info) {\n",
       "        console.error('Failed to find cell for figure', id, fig);\n",
       "        return;\n",
       "    }\n",
       "    fig.cell_info[0].output_area.element.on(\n",
       "        'cleared',\n",
       "        { fig: fig },\n",
       "        fig._remove_fig_handler\n",
       "    );\n",
       "};\n",
       "\n",
       "mpl.figure.prototype.handle_close = function (fig, msg) {\n",
       "    var width = fig.canvas.width / fig.ratio;\n",
       "    fig.cell_info[0].output_area.element.off(\n",
       "        'cleared',\n",
       "        fig._remove_fig_handler\n",
       "    );\n",
       "    fig.resizeObserverInstance.unobserve(fig.canvas_div);\n",
       "\n",
       "    // Update the output cell to use the data from the current canvas.\n",
       "    fig.push_to_output();\n",
       "    var dataURL = fig.canvas.toDataURL();\n",
       "    // Re-enable the keyboard manager in IPython - without this line, in FF,\n",
       "    // the notebook keyboard shortcuts fail.\n",
       "    IPython.keyboard_manager.enable();\n",
       "    fig.parent_element.innerHTML =\n",
       "        '<img src=\"' + dataURL + '\" width=\"' + width + '\">';\n",
       "    fig.close_ws(fig, msg);\n",
       "};\n",
       "\n",
       "mpl.figure.prototype.close_ws = function (fig, msg) {\n",
       "    fig.send_message('closing', msg);\n",
       "    // fig.ws.close()\n",
       "};\n",
       "\n",
       "mpl.figure.prototype.push_to_output = function (_remove_interactive) {\n",
       "    // Turn the data on the canvas into data in the output cell.\n",
       "    var width = this.canvas.width / this.ratio;\n",
       "    var dataURL = this.canvas.toDataURL();\n",
       "    this.cell_info[1]['text/html'] =\n",
       "        '<img src=\"' + dataURL + '\" width=\"' + width + '\">';\n",
       "};\n",
       "\n",
       "mpl.figure.prototype.updated_canvas_event = function () {\n",
       "    // Tell IPython that the notebook contents must change.\n",
       "    IPython.notebook.set_dirty(true);\n",
       "    this.send_message('ack', {});\n",
       "    var fig = this;\n",
       "    // Wait a second, then push the new image to the DOM so\n",
       "    // that it is saved nicely (might be nice to debounce this).\n",
       "    setTimeout(function () {\n",
       "        fig.push_to_output();\n",
       "    }, 1000);\n",
       "};\n",
       "\n",
       "mpl.figure.prototype._init_toolbar = function () {\n",
       "    var fig = this;\n",
       "\n",
       "    var toolbar = document.createElement('div');\n",
       "    toolbar.classList = 'btn-toolbar';\n",
       "    this.root.appendChild(toolbar);\n",
       "\n",
       "    function on_click_closure(name) {\n",
       "        return function (_event) {\n",
       "            return fig.toolbar_button_onclick(name);\n",
       "        };\n",
       "    }\n",
       "\n",
       "    function on_mouseover_closure(tooltip) {\n",
       "        return function (event) {\n",
       "            if (!event.currentTarget.disabled) {\n",
       "                return fig.toolbar_button_onmouseover(tooltip);\n",
       "            }\n",
       "        };\n",
       "    }\n",
       "\n",
       "    fig.buttons = {};\n",
       "    var buttonGroup = document.createElement('div');\n",
       "    buttonGroup.classList = 'btn-group';\n",
       "    var button;\n",
       "    for (var toolbar_ind in mpl.toolbar_items) {\n",
       "        var name = mpl.toolbar_items[toolbar_ind][0];\n",
       "        var tooltip = mpl.toolbar_items[toolbar_ind][1];\n",
       "        var image = mpl.toolbar_items[toolbar_ind][2];\n",
       "        var method_name = mpl.toolbar_items[toolbar_ind][3];\n",
       "\n",
       "        if (!name) {\n",
       "            /* Instead of a spacer, we start a new button group. */\n",
       "            if (buttonGroup.hasChildNodes()) {\n",
       "                toolbar.appendChild(buttonGroup);\n",
       "            }\n",
       "            buttonGroup = document.createElement('div');\n",
       "            buttonGroup.classList = 'btn-group';\n",
       "            continue;\n",
       "        }\n",
       "\n",
       "        button = fig.buttons[name] = document.createElement('button');\n",
       "        button.classList = 'btn btn-default';\n",
       "        button.href = '#';\n",
       "        button.title = name;\n",
       "        button.innerHTML = '<i class=\"fa ' + image + ' fa-lg\"></i>';\n",
       "        button.addEventListener('click', on_click_closure(method_name));\n",
       "        button.addEventListener('mouseover', on_mouseover_closure(tooltip));\n",
       "        buttonGroup.appendChild(button);\n",
       "    }\n",
       "\n",
       "    if (buttonGroup.hasChildNodes()) {\n",
       "        toolbar.appendChild(buttonGroup);\n",
       "    }\n",
       "\n",
       "    // Add the status bar.\n",
       "    var status_bar = document.createElement('span');\n",
       "    status_bar.classList = 'mpl-message pull-right';\n",
       "    toolbar.appendChild(status_bar);\n",
       "    this.message = status_bar;\n",
       "\n",
       "    // Add the close button to the window.\n",
       "    var buttongrp = document.createElement('div');\n",
       "    buttongrp.classList = 'btn-group inline pull-right';\n",
       "    button = document.createElement('button');\n",
       "    button.classList = 'btn btn-mini btn-primary';\n",
       "    button.href = '#';\n",
       "    button.title = 'Stop Interaction';\n",
       "    button.innerHTML = '<i class=\"fa fa-power-off icon-remove icon-large\"></i>';\n",
       "    button.addEventListener('click', function (_evt) {\n",
       "        fig.handle_close(fig, {});\n",
       "    });\n",
       "    button.addEventListener(\n",
       "        'mouseover',\n",
       "        on_mouseover_closure('Stop Interaction')\n",
       "    );\n",
       "    buttongrp.appendChild(button);\n",
       "    var titlebar = this.root.querySelector('.ui-dialog-titlebar');\n",
       "    titlebar.insertBefore(buttongrp, titlebar.firstChild);\n",
       "};\n",
       "\n",
       "mpl.figure.prototype._remove_fig_handler = function (event) {\n",
       "    var fig = event.data.fig;\n",
       "    if (event.target !== this) {\n",
       "        // Ignore bubbled events from children.\n",
       "        return;\n",
       "    }\n",
       "    fig.close_ws(fig, {});\n",
       "};\n",
       "\n",
       "mpl.figure.prototype._root_extra_style = function (el) {\n",
       "    el.style.boxSizing = 'content-box'; // override notebook setting of border-box.\n",
       "};\n",
       "\n",
       "mpl.figure.prototype._canvas_extra_style = function (el) {\n",
       "    // this is important to make the div 'focusable\n",
       "    el.setAttribute('tabindex', 0);\n",
       "    // reach out to IPython and tell the keyboard manager to turn it's self\n",
       "    // off when our div gets focus\n",
       "\n",
       "    // location in version 3\n",
       "    if (IPython.notebook.keyboard_manager) {\n",
       "        IPython.notebook.keyboard_manager.register_events(el);\n",
       "    } else {\n",
       "        // location in version 2\n",
       "        IPython.keyboard_manager.register_events(el);\n",
       "    }\n",
       "};\n",
       "\n",
       "mpl.figure.prototype._key_event_extra = function (event, _name) {\n",
       "    // Check for shift+enter\n",
       "    if (event.shiftKey && event.which === 13) {\n",
       "        this.canvas_div.blur();\n",
       "        // select the cell after this one\n",
       "        var index = IPython.notebook.find_cell_index(this.cell_info[0]);\n",
       "        IPython.notebook.select(index + 1);\n",
       "    }\n",
       "};\n",
       "\n",
       "mpl.figure.prototype.handle_save = function (fig, _msg) {\n",
       "    fig.ondownload(fig, null);\n",
       "};\n",
       "\n",
       "mpl.find_output_cell = function (html_output) {\n",
       "    // Return the cell and output element which can be found *uniquely* in the notebook.\n",
       "    // Note - this is a bit hacky, but it is done because the \"notebook_saving.Notebook\"\n",
       "    // IPython event is triggered only after the cells have been serialised, which for\n",
       "    // our purposes (turning an active figure into a static one), is too late.\n",
       "    var cells = IPython.notebook.get_cells();\n",
       "    var ncells = cells.length;\n",
       "    for (var i = 0; i < ncells; i++) {\n",
       "        var cell = cells[i];\n",
       "        if (cell.cell_type === 'code') {\n",
       "            for (var j = 0; j < cell.output_area.outputs.length; j++) {\n",
       "                var data = cell.output_area.outputs[j];\n",
       "                if (data.data) {\n",
       "                    // IPython >= 3 moved mimebundle to data attribute of output\n",
       "                    data = data.data;\n",
       "                }\n",
       "                if (data['text/html'] === html_output) {\n",
       "                    return [cell, data, j];\n",
       "                }\n",
       "            }\n",
       "        }\n",
       "    }\n",
       "};\n",
       "\n",
       "// Register the function which deals with the matplotlib target/channel.\n",
       "// The kernel may be null if the page has been refreshed.\n",
       "if (IPython.notebook.kernel !== null) {\n",
       "    IPython.notebook.kernel.comm_manager.register_target(\n",
       "        'matplotlib',\n",
       "        mpl.mpl_figure_comm\n",
       "    );\n",
       "}\n"
      ],
      "text/plain": [
       "<IPython.core.display.Javascript object>"
      ]
     },
     "metadata": {},
     "output_type": "display_data"
    },
    {
     "data": {
      "text/html": [
       "<img src=\"data:image/png;base64,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\" width=\"639.9999861283738\">"
      ],
      "text/plain": [
       "<IPython.core.display.HTML object>"
      ]
     },
     "metadata": {},
     "output_type": "display_data"
    }
   ],
   "source": [
    "brain_body_model()"
   ]
  },
  {
   "cell_type": "code",
   "execution_count": 72,
   "metadata": {},
   "outputs": [
    {
     "data": {
      "text/plain": [
       "0.8726620843043331"
      ]
     },
     "execution_count": 72,
     "metadata": {},
     "output_type": "execute_result"
    }
   ],
   "source": [
    "liner_reg.score(X,y)"
   ]
  },
  {
   "cell_type": "code",
   "execution_count": 73,
   "metadata": {},
   "outputs": [
    {
     "data": {
      "text/plain": [
       "array([[  94.27598641],\n",
       "       [  91.46831446],\n",
       "       [  92.3091663 ],\n",
       "       [ 540.42520718],\n",
       "       [ 126.11720924],\n",
       "       [ 117.73768574],\n",
       "       [ 105.33753734],\n",
       "       [  92.00955243],\n",
       "       [  95.05401599],\n",
       "       [  91.41515716],\n",
       "       [  91.10201234],\n",
       "       [  91.89357287],\n",
       "       [  91.97089258],\n",
       "       [  91.00922869],\n",
       "       [  91.06238599],\n",
       "       [  94.38713349],\n",
       "       [  92.93738894],\n",
       "       [  92.64744003],\n",
       "       [2552.67064467],\n",
       "       [  91.02662562],\n",
       "       [ 271.8358666 ],\n",
       "       [ 594.54900376],\n",
       "       [  91.76309586],\n",
       "       [ 100.66935988],\n",
       "       [  94.19383422],\n",
       "       [  91.19769548],\n",
       "       [  92.36715609],\n",
       "       [ 602.28097471],\n",
       "       [ 291.06914432],\n",
       "       [ 173.15658746],\n",
       "       [  91.72926848],\n",
       "       [ 150.927171  ],\n",
       "       [6522.0712267 ],\n",
       "       [  94.38713349],\n",
       "       [  97.57657151],\n",
       "       [ 124.83176908],\n",
       "       [  94.9187065 ],\n",
       "       [  91.12037577],\n",
       "       [  91.02662562],\n",
       "       [  91.01406117],\n",
       "       [  92.35749112],\n",
       "       [ 332.62848813],\n",
       "       [  93.42063713],\n",
       "       [ 144.64494461],\n",
       "       [ 187.65403297],\n",
       "       [ 141.41684675],\n",
       "       [ 101.20093289],\n",
       "       [  91.53596921],\n",
       "       [ 148.99417827],\n",
       "       [  94.48378313],\n",
       "       [  95.14873263],\n",
       "       [  91.27501519],\n",
       "       [  91.07688343],\n",
       "       [  91.12230876],\n",
       "       [  91.05078803],\n",
       "       [ 276.5716988 ],\n",
       "       [  93.90388531],\n",
       "       [ 245.64381504],\n",
       "       [  91.87424294],\n",
       "       [  92.57012032],\n",
       "       [  91.10491183],\n",
       "       [  95.09750832]])"
      ]
     },
     "execution_count": 73,
     "metadata": {},
     "output_type": "execute_result"
    }
   ],
   "source": [
    "liner_reg.predict(X)"
   ]
  },
  {
   "cell_type": "markdown",
   "metadata": {
    "id": "B1O3OMPL8Mm3"
   },
   "source": [
    "# Assignment7"
   ]
  },
  {
   "cell_type": "markdown",
   "metadata": {
    "id": "gZSoLutg8Mm4"
   },
   "source": [
    "## Salary Discrimination\n",
    "\n",
    "The file `salary.txt` contains data for 52 tenure-track professors at a small Midwestern college. This data was used in legal proceedings in the 1980s about discrimination against women in salary.\n",
    "\n",
    "The data in the file, by column:\n",
    "\n",
    "1. Sex. 1 for female, 0 for male.\n",
    "2. Rank. 1 for assistant professor, 2 for associate professor, 3 for full professor.\n",
    "3. Year. Number of years in current rank.\n",
    "4. Degree. Highest degree. 1 for doctorate, 0 for master's.\n",
    "5. YSdeg. Years since highest degree was earned.\n",
    "6. Salary. Salary/year in dollars.\n",
    "\n",
    "### Tasks\n",
    "\n",
    "1. Find the linear regression equation for this data using columns 1-5 to column 6.\n",
    "2. Find the selection of columns with the best $R^2$ score.\n",
    "3. Report whether sex is a factor in salary."
   ]
  },
  {
   "cell_type": "code",
   "execution_count": null,
   "metadata": {
    "id": "wGdWPCWT8Mm5"
   },
   "outputs": [],
   "source": [
    "df_s = pd.read_fwf(\"salary.txt\", header=None, \n",
    "                 names=[\"Sex\", \"Rank\", \"Year\", \"Degree\", \"YSdeg\", \"Salary\"])"
   ]
  },
  {
   "cell_type": "code",
   "execution_count": null,
   "metadata": {},
   "outputs": [],
   "source": [
    "df"
   ]
  },
  {
   "cell_type": "code",
   "execution_count": null,
   "metadata": {},
   "outputs": [],
   "source": [
    "x = df_s.iloc[:,:-1]\n",
    "y = df_s.iloc[:,-1]"
   ]
  },
  {
   "cell_type": "code",
   "execution_count": null,
   "metadata": {},
   "outputs": [],
   "source": [
    "salary_model = LinearRegression()\n",
    "salary_model.fit(x.values,y)"
   ]
  },
  {
   "cell_type": "code",
   "execution_count": null,
   "metadata": {},
   "outputs": [],
   "source": [
    "salary_model.score(x.values,y) # correlation seems good"
   ]
  },
  {
   "cell_type": "code",
   "execution_count": null,
   "metadata": {},
   "outputs": [],
   "source": [
    "print(\"Intercept and coef:\\n\",salary_model.intercept_,\"\\n\",salary_model.coef_)"
   ]
  },
  {
   "cell_type": "code",
   "execution_count": null,
   "metadata": {},
   "outputs": [],
   "source": [
    "df_s.corr()"
   ]
  },
  {
   "cell_type": "markdown",
   "metadata": {},
   "source": [
    "# salary has strong correlation with \n",
    "1. Rank\n",
    "2. Years\n",
    "3. YSdeg\n",
    "* `Salary` and `sex` have correlation in slight negative manner"
   ]
  },
  {
   "cell_type": "code",
   "execution_count": null,
   "metadata": {},
   "outputs": [],
   "source": [
    "import statsmodels.formula.api as st"
   ]
  },
  {
   "cell_type": "code",
   "execution_count": null,
   "metadata": {},
   "outputs": [],
   "source": [
    "x = np.append(arr =np.ones(shape=(df_s.shape[0],1)) ,values = x ,axis = 1)"
   ]
  },
  {
   "cell_type": "code",
   "execution_count": null,
   "metadata": {},
   "outputs": [],
   "source": [
    "import statsmodels.regression.linear_model as sts\n",
    "def ols_fun(value):\n",
    "    ols_model=sts.OLS(endog = y, exog = value).fit()\n",
    "    return ols_model.summary()"
   ]
  },
  {
   "cell_type": "code",
   "execution_count": null,
   "metadata": {},
   "outputs": [],
   "source": [
    "x_be = df_s.iloc[:,[0,1,2,3,4]]\n",
    "x_be.values"
   ]
  },
  {
   "cell_type": "code",
   "execution_count": null,
   "metadata": {},
   "outputs": [],
   "source": [
    "y=df_s[\"Salary\"]"
   ]
  },
  {
   "cell_type": "code",
   "execution_count": null,
   "metadata": {},
   "outputs": [],
   "source": [
    "def m(x):\n",
    "    model1 = LinearRegression()\n",
    "    model1.fit(x,y)\n",
    "    return model1.score(x,y)"
   ]
  },
  {
   "cell_type": "code",
   "execution_count": null,
   "metadata": {},
   "outputs": [],
   "source": [
    "x_be1=df_s.iloc[:,1:-1]"
   ]
  },
  {
   "cell_type": "code",
   "execution_count": null,
   "metadata": {},
   "outputs": [],
   "source": [
    "x_be2=df_s.iloc[:,1:-2]"
   ]
  },
  {
   "cell_type": "code",
   "execution_count": null,
   "metadata": {},
   "outputs": [],
   "source": [
    "x_be3=df_s.iloc[:,1:-3]"
   ]
  },
  {
   "cell_type": "code",
   "execution_count": null,
   "metadata": {},
   "outputs": [],
   "source": [
    "m(x_be)"
   ]
  },
  {
   "cell_type": "code",
   "execution_count": null,
   "metadata": {},
   "outputs": [],
   "source": [
    "m(x_be1)"
   ]
  },
  {
   "cell_type": "code",
   "execution_count": null,
   "metadata": {},
   "outputs": [],
   "source": [
    "m(x_be2)"
   ]
  },
  {
   "cell_type": "code",
   "execution_count": null,
   "metadata": {},
   "outputs": [],
   "source": [
    "m(x_be3)"
   ]
  },
  {
   "cell_type": "markdown",
   "metadata": {},
   "source": [
    "**Hence maximum r2 score attained with all the feature hence feature elimination is not required**\n",
    "> Maxmium score is `0.0.8547180674410969`"
   ]
  },
  {
   "cell_type": "code",
   "execution_count": null,
   "metadata": {},
   "outputs": [],
   "source": []
  }
 ],
 "metadata": {
  "colab": {
   "provenance": []
  },
  "kernelspec": {
   "display_name": "Python 3 (ipykernel)",
   "language": "python",
   "name": "python3"
  },
  "language_info": {
   "codemirror_mode": {
    "name": "ipython",
    "version": 3
   },
   "file_extension": ".py",
   "mimetype": "text/x-python",
   "name": "python",
   "nbconvert_exporter": "python",
   "pygments_lexer": "ipython3",
   "version": "3.10.7"
  }
 },
 "nbformat": 4,
 "nbformat_minor": 1
}
